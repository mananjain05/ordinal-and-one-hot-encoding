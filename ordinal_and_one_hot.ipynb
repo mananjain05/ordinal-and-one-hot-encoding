{
 "cells": [
  {
   "cell_type": "code",
   "execution_count": 3,
   "id": "76c545d0-2cb3-4c6b-9a60-e64a119591ff",
   "metadata": {},
   "outputs": [
    {
     "name": "stdout",
     "output_type": "stream",
     "text": [
      "After Ordinal Encoding:\n",
      "    Color  Size  Price\n",
      "0    Red     2     10\n",
      "1   Blue     1     20\n",
      "2  Green     0     15\n",
      "3   Blue     1     30\n",
      "4    Red     2     25\n",
      "\n",
      "After One-Hot Encoding:\n",
      "    Size  Price  Color_Blue  Color_Green  Color_Red\n",
      "0     2     10       False        False       True\n",
      "1     1     20        True        False      False\n",
      "2     0     15       False         True      False\n",
      "3     1     30        True        False      False\n",
      "4     2     25       False        False       True\n"
     ]
    }
   ],
   "source": [
    "import pandas as pd\n",
    "import numpy as np\n",
    "\n",
    "\n",
    "def ordinal_encoding(df, column):\n",
    "    unique_vals = sorted(df[column].unique())\n",
    "    val_to_int = {val: idx for idx, val in enumerate(unique_vals)}\n",
    "    \n",
    "    \n",
    "    df[column] = df[column].map(val_to_int)\n",
    "    return df\n",
    "\n",
    "\n",
    "def one_hot_encoding(df, column):\n",
    "    dummies = pd.get_dummies(df[column], prefix=column)\n",
    "    \n",
    "    \n",
    "    df = df.drop(column, axis=1)\n",
    "    df = pd.concat([df, dummies], axis=1)\n",
    "    return df\n",
    "\n",
    "\n",
    "data = {\n",
    "    'Color': ['Red', 'Blue', 'Green', 'Blue', 'Red'],\n",
    "    'Size': ['S', 'M', 'L', 'M', 'S'],\n",
    "    'Price': [10, 20, 15, 30, 25]\n",
    "}\n",
    "\n",
    "df = pd.DataFrame(data)\n",
    "\n",
    "df = ordinal_encoding(df, 'Size')\n",
    "print(\"After Ordinal Encoding:\\n\", df)\n",
    "\n",
    "df = one_hot_encoding(df, 'Color')\n",
    "print(\"\\nAfter One-Hot Encoding:\\n\", df)\n",
    "\n"
   ]
  },
  {
   "cell_type": "code",
   "execution_count": null,
   "id": "f3de7be5-a8ab-4c48-9baf-d90bf86f7410",
   "metadata": {},
   "outputs": [],
   "source": []
  }
 ],
 "metadata": {
  "kernelspec": {
   "display_name": "Python 3 (ipykernel)",
   "language": "python",
   "name": "python3"
  },
  "language_info": {
   "codemirror_mode": {
    "name": "ipython",
    "version": 3
   },
   "file_extension": ".py",
   "mimetype": "text/x-python",
   "name": "python",
   "nbconvert_exporter": "python",
   "pygments_lexer": "ipython3",
   "version": "3.11.9"
  }
 },
 "nbformat": 4,
 "nbformat_minor": 5
}
